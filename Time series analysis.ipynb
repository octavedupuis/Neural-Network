{
 "cells": [
  {
   "cell_type": "code",
   "execution_count": 218,
   "metadata": {},
   "outputs": [],
   "source": [
    "import tensorflow as tf\n",
    "from tensorflow import keras\n",
    "from tensorflow.keras import Sequential\n",
    "from tensorflow.keras.layers import Flatten, Dense, Softmax\n",
    "from tensorflow.keras import optimizers\n",
    "from sklearn.model_selection import train_test_split\n",
    "from sklearn.metrics import confusion_matrix\n",
    "from keras.layers import SimpleRNN\n",
    "from sklearn.metrics import classification_report\n",
    "from statsmodels.graphics.tsaplots import plot_acf, plot_pacf\n",
    "from keras.layers import LSTM\n",
    "import numpy as np\n",
    "import matplotlib.pyplot as plt\n",
    "import pandas as pd\n",
    "import locale"
   ]
  },
  {
   "cell_type": "code",
   "execution_count": 219,
   "metadata": {},
   "outputs": [],
   "source": [
    "data = pd.read_csv(\"Danube ammonium level Time Series (1).csv\",sep=\";\")\n",
    "\n",
    "data = data[['Ammonium']]\n",
    "data = np.array(data)\n",
    "\n",
    "locale.setlocale(locale.LC_ALL, 'nl_NL')\n",
    "for i in range(0,len(data)):\n",
    "    rep = data[i]\n",
    "    rep1 = locale.atof(rep[0])\n",
    "    data[i] = rep1\n",
    "\n",
    "max = data.max()\n",
    "min = data.min()\n",
    "\n",
    "train1 = (data[0:251,0] - min)/(max - min)\n",
    "test1 = (data[252:263,0] - min)/(max - min)\n",
    "\n",
    "train = np.zeros((251,2))\n",
    "test = np.zeros((11,2))\n",
    "\n",
    "for i in range(0,251) :\n",
    "    train[i,0] = train1[i]\n",
    "    train[i,1] = (data[i+1,0] - min)/(max - min)\n",
    "\n",
    "for i in range(0,11) :\n",
    "    test[i,0] = test1[i]\n",
    "    test[i,1] = (data[252+i+1,0] - min)/(max - min)\n",
    "    \n",
    "X_train = train[:,0]\n",
    "Y_train = train[:,1]\n",
    "\n",
    "X_test = test[:,0]\n",
    "Y_test = test[:,1]\n",
    "\n",
    "#On remodèle l'ensemble des données d'entrée\n",
    "X_train = np.reshape(X_train, (X_train.shape[0],1,1))\n",
    "X_test = np.reshape(X_test, (X_test.shape[0],1,1))\n",
    "Y_test_plot = Y_test*(max-min) + min"
   ]
  },
  {
   "cell_type": "code",
   "execution_count": 220,
   "metadata": {},
   "outputs": [],
   "source": [
    "#création et entraînement du réseau LSTM\n",
    "model = Sequential()\n",
    "model.add(LSTM(10, input_shape=(1,1)))\n",
    "model.add(Dense(1))\n",
    "model.compile(loss='mse', optimizer='adam', metrics=['mse'])"
   ]
  },
  {
   "cell_type": "code",
   "execution_count": 221,
   "metadata": {
    "scrolled": true
   },
   "outputs": [
    {
     "name": "stdout",
     "output_type": "stream",
     "text": [
      "Epoch 1/50\n",
      "26/26 [==============================] - 6s 51ms/step - loss: 0.0802 - mse: 0.0802 - val_loss: 0.0065 - val_mse: 0.0065\n",
      "Epoch 2/50\n",
      "26/26 [==============================] - 0s 7ms/step - loss: 0.0580 - mse: 0.0580 - val_loss: 0.0032 - val_mse: 0.0032\n",
      "Epoch 3/50\n",
      "26/26 [==============================] - 0s 7ms/step - loss: 0.0448 - mse: 0.0448 - val_loss: 0.0040 - val_mse: 0.0040\n",
      "Epoch 4/50\n",
      "26/26 [==============================] - 0s 8ms/step - loss: 0.0371 - mse: 0.0371 - val_loss: 0.0068 - val_mse: 0.0068\n",
      "Epoch 5/50\n",
      "26/26 [==============================] - 0s 7ms/step - loss: 0.0331 - mse: 0.0331 - val_loss: 0.0095 - val_mse: 0.0095\n",
      "Epoch 6/50\n",
      "26/26 [==============================] - 0s 8ms/step - loss: 0.0315 - mse: 0.0315 - val_loss: 0.0122 - val_mse: 0.0122\n",
      "Epoch 7/50\n",
      "26/26 [==============================] - 0s 9ms/step - loss: 0.0301 - mse: 0.0301 - val_loss: 0.0131 - val_mse: 0.0131\n",
      "Epoch 8/50\n",
      "26/26 [==============================] - 0s 9ms/step - loss: 0.0290 - mse: 0.0290 - val_loss: 0.0118 - val_mse: 0.0118\n",
      "Epoch 9/50\n",
      "26/26 [==============================] - 0s 8ms/step - loss: 0.0280 - mse: 0.0280 - val_loss: 0.0108 - val_mse: 0.0108\n",
      "Epoch 10/50\n",
      "26/26 [==============================] - 0s 8ms/step - loss: 0.0271 - mse: 0.0271 - val_loss: 0.0104 - val_mse: 0.0104\n",
      "Epoch 11/50\n",
      "26/26 [==============================] - 0s 7ms/step - loss: 0.0260 - mse: 0.0260 - val_loss: 0.0107 - val_mse: 0.0107\n",
      "Epoch 12/50\n",
      "26/26 [==============================] - 0s 7ms/step - loss: 0.0251 - mse: 0.0251 - val_loss: 0.0112 - val_mse: 0.0112\n",
      "Epoch 13/50\n",
      "26/26 [==============================] - 0s 8ms/step - loss: 0.0244 - mse: 0.0244 - val_loss: 0.0107 - val_mse: 0.0107\n",
      "Epoch 14/50\n",
      "26/26 [==============================] - 0s 10ms/step - loss: 0.0239 - mse: 0.0239 - val_loss: 0.0112 - val_mse: 0.0112\n",
      "Epoch 15/50\n",
      "26/26 [==============================] - 0s 7ms/step - loss: 0.0227 - mse: 0.0227 - val_loss: 0.0086 - val_mse: 0.0086\n",
      "Epoch 16/50\n",
      "26/26 [==============================] - 0s 7ms/step - loss: 0.0222 - mse: 0.0222 - val_loss: 0.0075 - val_mse: 0.0075\n",
      "Epoch 17/50\n",
      "26/26 [==============================] - 0s 8ms/step - loss: 0.0217 - mse: 0.0217 - val_loss: 0.0075 - val_mse: 0.0075\n",
      "Epoch 18/50\n",
      "26/26 [==============================] - 0s 8ms/step - loss: 0.0212 - mse: 0.0212 - val_loss: 0.0071 - val_mse: 0.0071\n",
      "Epoch 19/50\n",
      "26/26 [==============================] - 0s 8ms/step - loss: 0.0209 - mse: 0.0209 - val_loss: 0.0062 - val_mse: 0.0062\n",
      "Epoch 20/50\n",
      "26/26 [==============================] - 0s 8ms/step - loss: 0.0205 - mse: 0.0205 - val_loss: 0.0073 - val_mse: 0.0073\n",
      "Epoch 21/50\n",
      "26/26 [==============================] - 0s 7ms/step - loss: 0.0202 - mse: 0.0202 - val_loss: 0.0063 - val_mse: 0.0063\n",
      "Epoch 22/50\n",
      "26/26 [==============================] - 0s 8ms/step - loss: 0.0198 - mse: 0.0198 - val_loss: 0.0061 - val_mse: 0.0061\n",
      "Epoch 23/50\n",
      "26/26 [==============================] - 0s 7ms/step - loss: 0.0195 - mse: 0.0195 - val_loss: 0.0055 - val_mse: 0.0055\n",
      "Epoch 24/50\n",
      "26/26 [==============================] - 0s 8ms/step - loss: 0.0192 - mse: 0.0192 - val_loss: 0.0058 - val_mse: 0.0058\n",
      "Epoch 25/50\n",
      "26/26 [==============================] - 0s 8ms/step - loss: 0.0191 - mse: 0.0191 - val_loss: 0.0059 - val_mse: 0.0059\n",
      "Epoch 26/50\n",
      "26/26 [==============================] - 0s 8ms/step - loss: 0.0189 - mse: 0.0189 - val_loss: 0.0053 - val_mse: 0.0053\n",
      "Epoch 27/50\n",
      "26/26 [==============================] - 0s 8ms/step - loss: 0.0189 - mse: 0.0189 - val_loss: 0.0049 - val_mse: 0.0049\n",
      "Epoch 28/50\n",
      "26/26 [==============================] - 0s 8ms/step - loss: 0.0186 - mse: 0.0186 - val_loss: 0.0047 - val_mse: 0.0047\n",
      "Epoch 29/50\n",
      "26/26 [==============================] - 0s 7ms/step - loss: 0.0186 - mse: 0.0186 - val_loss: 0.0050 - val_mse: 0.0050\n",
      "Epoch 30/50\n",
      "26/26 [==============================] - 0s 8ms/step - loss: 0.0187 - mse: 0.0187 - val_loss: 0.0042 - val_mse: 0.0042\n",
      "Epoch 31/50\n",
      "26/26 [==============================] - 0s 8ms/step - loss: 0.0184 - mse: 0.0184 - val_loss: 0.0048 - val_mse: 0.0048\n",
      "Epoch 32/50\n",
      "26/26 [==============================] - 0s 8ms/step - loss: 0.0183 - mse: 0.0183 - val_loss: 0.0044 - val_mse: 0.0044\n",
      "Epoch 33/50\n",
      "26/26 [==============================] - 0s 8ms/step - loss: 0.0182 - mse: 0.0182 - val_loss: 0.0047 - val_mse: 0.0047\n",
      "Epoch 34/50\n",
      "26/26 [==============================] - 0s 8ms/step - loss: 0.0183 - mse: 0.0183 - val_loss: 0.0041 - val_mse: 0.0041\n",
      "Epoch 35/50\n",
      "26/26 [==============================] - 0s 8ms/step - loss: 0.0181 - mse: 0.0181 - val_loss: 0.0043 - val_mse: 0.0043\n",
      "Epoch 36/50\n",
      "26/26 [==============================] - 0s 8ms/step - loss: 0.0181 - mse: 0.0181 - val_loss: 0.0043 - val_mse: 0.0043\n",
      "Epoch 37/50\n",
      "26/26 [==============================] - 0s 8ms/step - loss: 0.0181 - mse: 0.0181 - val_loss: 0.0044 - val_mse: 0.0044\n",
      "Epoch 38/50\n",
      "26/26 [==============================] - 0s 8ms/step - loss: 0.0181 - mse: 0.0181 - val_loss: 0.0041 - val_mse: 0.0041\n",
      "Epoch 39/50\n",
      "26/26 [==============================] - 0s 8ms/step - loss: 0.0180 - mse: 0.0180 - val_loss: 0.0043 - val_mse: 0.0043\n",
      "Epoch 40/50\n",
      "26/26 [==============================] - 0s 8ms/step - loss: 0.0180 - mse: 0.0180 - val_loss: 0.0042 - val_mse: 0.0042\n",
      "Epoch 41/50\n",
      "26/26 [==============================] - 0s 8ms/step - loss: 0.0180 - mse: 0.0180 - val_loss: 0.0041 - val_mse: 0.0041\n",
      "Epoch 42/50\n",
      "26/26 [==============================] - 0s 8ms/step - loss: 0.0180 - mse: 0.0180 - val_loss: 0.0044 - val_mse: 0.0044\n",
      "Epoch 43/50\n",
      "26/26 [==============================] - 0s 8ms/step - loss: 0.0180 - mse: 0.0180 - val_loss: 0.0038 - val_mse: 0.0038\n",
      "Epoch 44/50\n",
      "26/26 [==============================] - 0s 8ms/step - loss: 0.0179 - mse: 0.0179 - val_loss: 0.0042 - val_mse: 0.0042\n",
      "Epoch 45/50\n",
      "26/26 [==============================] - 0s 8ms/step - loss: 0.0180 - mse: 0.0180 - val_loss: 0.0040 - val_mse: 0.0040\n",
      "Epoch 46/50\n",
      "26/26 [==============================] - 0s 8ms/step - loss: 0.0179 - mse: 0.0179 - val_loss: 0.0040 - val_mse: 0.0040\n",
      "Epoch 47/50\n",
      "26/26 [==============================] - 0s 6ms/step - loss: 0.0179 - mse: 0.0179 - val_loss: 0.0038 - val_mse: 0.0038\n",
      "Epoch 48/50\n",
      "26/26 [==============================] - 0s 8ms/step - loss: 0.0180 - mse: 0.0180 - val_loss: 0.0046 - val_mse: 0.0046\n",
      "Epoch 49/50\n",
      "26/26 [==============================] - 0s 5ms/step - loss: 0.0179 - mse: 0.0179 - val_loss: 0.0038 - val_mse: 0.0038\n",
      "Epoch 50/50\n",
      "26/26 [==============================] - 0s 7ms/step - loss: 0.0179 - mse: 0.0179 - val_loss: 0.0039 - val_mse: 0.0039\n"
     ]
    }
   ],
   "source": [
    "history = model.fit(X_train, Y_train, epochs=50, batch_size=10,validation_data=(X_test, Y_test), verbose=1)"
   ]
  },
  {
   "cell_type": "code",
   "execution_count": 222,
   "metadata": {},
   "outputs": [],
   "source": [
    "pred_LSTM = model.predict(X_test)*(max-min) + min"
   ]
  },
  {
   "cell_type": "code",
   "execution_count": 223,
   "metadata": {
    "scrolled": false
   },
   "outputs": [
    {
     "data": {
      "image/png": "[encoded data removed]",
      "text/plain": [
       "<Figure size 432x288 with 1 Axes>"
      ]
     },
     "metadata": {
      "needs_background": "light"
     },
     "output_type": "display_data"
    }
   ],
   "source": [
    "#plot\n",
    "plt.plot(history.history['mse'])\n",
    "plt.plot(history.history['val_mse'])\n",
    "score = model.evaluate(X_test, Y_test, verbose=0)\n",
    "RMSE_LSTM = np.sqrt(score[1])"
   ]
  },
  {
   "cell_type": "code",
   "execution_count": 224,
   "metadata": {},
   "outputs": [
    {
     "name": "stdout",
     "output_type": "stream",
     "text": [
      "Model: \"sequential_24\"\n",
      "_________________________________________________________________\n",
      " Layer (type)                Output Shape              Param #   \n",
      "=================================================================\n",
      " simple_rnn_6 (SimpleRNN)    (None, 1, 50)             2600      \n",
      "                                                                 \n",
      " simple_rnn_7 (SimpleRNN)    (None, 1)                 52        \n",
      "                                                                 \n",
      "=================================================================\n",
      "Total params: 2,652\n",
      "Trainable params: 2,652\n",
      "Non-trainable params: 0\n",
      "_________________________________________________________________\n",
      "Epoch 1/50\n",
      "26/26 [==============================] - 4s 33ms/step - loss: 0.0448 - mse: 0.0448 - val_loss: 0.0155 - val_mse: 0.0155\n",
      "Epoch 2/50\n",
      "26/26 [==============================] - 0s 6ms/step - loss: 0.0250 - mse: 0.0250 - val_loss: 0.0091 - val_mse: 0.0091\n",
      "Epoch 3/50\n",
      "26/26 [==============================] - 0s 7ms/step - loss: 0.0207 - mse: 0.0207 - val_loss: 0.0056 - val_mse: 0.0056\n",
      "Epoch 4/50\n",
      "26/26 [==============================] - 0s 6ms/step - loss: 0.0186 - mse: 0.0186 - val_loss: 0.0048 - val_mse: 0.0048\n",
      "Epoch 5/50\n",
      "26/26 [==============================] - 0s 7ms/step - loss: 0.0178 - mse: 0.0178 - val_loss: 0.0053 - val_mse: 0.0053\n",
      "Epoch 6/50\n",
      "26/26 [==============================] - 0s 7ms/step - loss: 0.0172 - mse: 0.0172 - val_loss: 0.0043 - val_mse: 0.0043\n",
      "Epoch 7/50\n",
      "26/26 [==============================] - 0s 8ms/step - loss: 0.0169 - mse: 0.0169 - val_loss: 0.0047 - val_mse: 0.0047\n",
      "Epoch 8/50\n",
      "26/26 [==============================] - 0s 7ms/step - loss: 0.0170 - mse: 0.0170 - val_loss: 0.0050 - val_mse: 0.0050\n",
      "Epoch 9/50\n",
      "26/26 [==============================] - 0s 7ms/step - loss: 0.0171 - mse: 0.0171 - val_loss: 0.0036 - val_mse: 0.0036\n",
      "Epoch 10/50\n",
      "26/26 [==============================] - 0s 7ms/step - loss: 0.0170 - mse: 0.0170 - val_loss: 0.0045 - val_mse: 0.0045\n",
      "Epoch 11/50\n",
      "26/26 [==============================] - 0s 8ms/step - loss: 0.0168 - mse: 0.0168 - val_loss: 0.0041 - val_mse: 0.0041\n",
      "Epoch 12/50\n",
      "26/26 [==============================] - 0s 7ms/step - loss: 0.0170 - mse: 0.0170 - val_loss: 0.0036 - val_mse: 0.0036\n",
      "Epoch 13/50\n",
      "26/26 [==============================] - 0s 7ms/step - loss: 0.0169 - mse: 0.0169 - val_loss: 0.0053 - val_mse: 0.0053\n",
      "Epoch 14/50\n",
      "26/26 [==============================] - 0s 7ms/step - loss: 0.0170 - mse: 0.0170 - val_loss: 0.0048 - val_mse: 0.0048\n",
      "Epoch 15/50\n",
      "26/26 [==============================] - 0s 7ms/step - loss: 0.0175 - mse: 0.0175 - val_loss: 0.0037 - val_mse: 0.0037\n",
      "Epoch 16/50\n",
      "26/26 [==============================] - 0s 7ms/step - loss: 0.0171 - mse: 0.0171 - val_loss: 0.0048 - val_mse: 0.0048\n",
      "Epoch 17/50\n",
      "26/26 [==============================] - 0s 7ms/step - loss: 0.0172 - mse: 0.0172 - val_loss: 0.0048 - val_mse: 0.0048\n",
      "Epoch 18/50\n",
      "26/26 [==============================] - 0s 7ms/step - loss: 0.0168 - mse: 0.0168 - val_loss: 0.0039 - val_mse: 0.0039\n",
      "Epoch 19/50\n",
      "26/26 [==============================] - 0s 7ms/step - loss: 0.0169 - mse: 0.0169 - val_loss: 0.0044 - val_mse: 0.0044\n",
      "Epoch 20/50\n",
      "26/26 [==============================] - 0s 7ms/step - loss: 0.0169 - mse: 0.0169 - val_loss: 0.0038 - val_mse: 0.0038\n",
      "Epoch 21/50\n",
      "26/26 [==============================] - 0s 7ms/step - loss: 0.0169 - mse: 0.0169 - val_loss: 0.0041 - val_mse: 0.0041\n",
      "Epoch 22/50\n",
      "26/26 [==============================] - 0s 7ms/step - loss: 0.0169 - mse: 0.0169 - val_loss: 0.0038 - val_mse: 0.0038\n",
      "Epoch 23/50\n",
      "26/26 [==============================] - 0s 7ms/step - loss: 0.0170 - mse: 0.0170 - val_loss: 0.0058 - val_mse: 0.0058\n",
      "Epoch 24/50\n",
      "26/26 [==============================] - 0s 7ms/step - loss: 0.0169 - mse: 0.0169 - val_loss: 0.0036 - val_mse: 0.0036\n",
      "Epoch 25/50\n",
      "26/26 [==============================] - 0s 7ms/step - loss: 0.0170 - mse: 0.0170 - val_loss: 0.0056 - val_mse: 0.0056\n",
      "Epoch 26/50\n",
      "26/26 [==============================] - 0s 8ms/step - loss: 0.0175 - mse: 0.0175 - val_loss: 0.0041 - val_mse: 0.0041\n",
      "Epoch 27/50\n",
      "26/26 [==============================] - 0s 7ms/step - loss: 0.0171 - mse: 0.0171 - val_loss: 0.0036 - val_mse: 0.0036\n",
      "Epoch 28/50\n",
      "26/26 [==============================] - ETA: 0s - loss: 0.0164 - mse: 0.016 - 0s 7ms/step - loss: 0.0169 - mse: 0.0169 - val_loss: 0.0042 - val_mse: 0.0042\n",
      "Epoch 29/50\n",
      "26/26 [==============================] - 0s 7ms/step - loss: 0.0169 - mse: 0.0169 - val_loss: 0.0035 - val_mse: 0.0035\n",
      "Epoch 30/50\n",
      "26/26 [==============================] - 0s 7ms/step - loss: 0.0174 - mse: 0.0174 - val_loss: 0.0043 - val_mse: 0.0043\n",
      "Epoch 31/50\n",
      "26/26 [==============================] - 0s 7ms/step - loss: 0.0170 - mse: 0.0170 - val_loss: 0.0040 - val_mse: 0.0040\n",
      "Epoch 32/50\n",
      "26/26 [==============================] - 0s 7ms/step - loss: 0.0168 - mse: 0.0168 - val_loss: 0.0046 - val_mse: 0.0046\n",
      "Epoch 33/50\n",
      "26/26 [==============================] - 0s 8ms/step - loss: 0.0170 - mse: 0.0170 - val_loss: 0.0057 - val_mse: 0.0057\n",
      "Epoch 34/50\n",
      "26/26 [==============================] - 0s 7ms/step - loss: 0.0178 - mse: 0.0178 - val_loss: 0.0042 - val_mse: 0.0042\n",
      "Epoch 35/50\n",
      "26/26 [==============================] - 0s 7ms/step - loss: 0.0169 - mse: 0.0169 - val_loss: 0.0042 - val_mse: 0.0042\n",
      "Epoch 36/50\n",
      "26/26 [==============================] - 0s 7ms/step - loss: 0.0169 - mse: 0.0169 - val_loss: 0.0037 - val_mse: 0.0037\n",
      "Epoch 37/50\n",
      "26/26 [==============================] - 0s 7ms/step - loss: 0.0173 - mse: 0.0173 - val_loss: 0.0053 - val_mse: 0.0053\n",
      "Epoch 38/50\n",
      "26/26 [==============================] - 0s 7ms/step - loss: 0.0171 - mse: 0.0171 - val_loss: 0.0041 - val_mse: 0.0041\n",
      "Epoch 39/50\n",
      "26/26 [==============================] - 0s 7ms/step - loss: 0.0169 - mse: 0.0169 - val_loss: 0.0039 - val_mse: 0.0039\n",
      "Epoch 40/50\n",
      "26/26 [==============================] - 0s 7ms/step - loss: 0.0170 - mse: 0.0170 - val_loss: 0.0053 - val_mse: 0.0053\n",
      "Epoch 41/50\n",
      "26/26 [==============================] - 0s 7ms/step - loss: 0.0169 - mse: 0.0169 - val_loss: 0.0041 - val_mse: 0.0041\n",
      "Epoch 42/50\n",
      "26/26 [==============================] - 0s 7ms/step - loss: 0.0168 - mse: 0.0168 - val_loss: 0.0043 - val_mse: 0.0043\n",
      "Epoch 43/50\n",
      "26/26 [==============================] - 0s 7ms/step - loss: 0.0172 - mse: 0.0172 - val_loss: 0.0036 - val_mse: 0.0036\n",
      "Epoch 44/50\n",
      "26/26 [==============================] - 0s 7ms/step - loss: 0.0169 - mse: 0.0169 - val_loss: 0.0048 - val_mse: 0.0048\n",
      "Epoch 45/50\n",
      "26/26 [==============================] - 0s 7ms/step - loss: 0.0170 - mse: 0.0170 - val_loss: 0.0042 - val_mse: 0.0042\n",
      "Epoch 46/50\n",
      "26/26 [==============================] - 0s 8ms/step - loss: 0.0171 - mse: 0.0171 - val_loss: 0.0036 - val_mse: 0.0036\n",
      "Epoch 47/50\n",
      "26/26 [==============================] - 0s 7ms/step - loss: 0.0173 - mse: 0.0173 - val_loss: 0.0039 - val_mse: 0.0039\n",
      "Epoch 48/50\n",
      "26/26 [==============================] - 0s 7ms/step - loss: 0.0173 - mse: 0.0173 - val_loss: 0.0044 - val_mse: 0.0044\n",
      "Epoch 49/50\n",
      "26/26 [==============================] - 0s 7ms/step - loss: 0.0174 - mse: 0.0174 - val_loss: 0.0052 - val_mse: 0.0052\n",
      "Epoch 50/50\n",
      "26/26 [==============================] - 0s 7ms/step - loss: 0.0168 - mse: 0.0168 - val_loss: 0.0041 - val_mse: 0.0041\n"
     ]
    }
   ],
   "source": [
    "#création et entraînement du réseau RNN\n",
    "\n",
    "model = Sequential()\n",
    "model.add(SimpleRNN(units=50, input_shape=(1,1), return_sequences=True))\n",
    "model.add(SimpleRNN(units=1))\n",
    "model.summary()\n",
    "\n",
    "\n",
    "# compile the model\n",
    "model.compile(optimizer='Adam',\n",
    "              loss='mse',\n",
    "              metrics=['mse'])\n",
    "\n",
    "# now we just update our model fit call\n",
    "history = model.fit(X_train, Y_train,\n",
    "                    epochs=50, # you can set this to a big number!\n",
    "                    batch_size=10,\n",
    "                    validation_data = (X_test, Y_test),\n",
    "                    verbose=1)"
   ]
  },
  {
   "cell_type": "code",
   "execution_count": 225,
   "metadata": {},
   "outputs": [
    {
     "name": "stdout",
     "output_type": "stream",
     "text": [
      "Test loss     : 0.00406739441677928\n",
      "Test mse : 0.00406739441677928\n"
     ]
    },
    {
     "data": {
      "text/plain": [
       "[<matplotlib.lines.Line2D at 0x1b2e77ef400>]"
      ]
     },
     "execution_count": 225,
     "metadata": {},
     "output_type": "execute_result"
    },
    {
     "data": {
      "image/png": "[encoded data removed]",
      "text/plain": [
       "<Figure size 432x288 with 1 Axes>"
      ]
     },
     "metadata": {
      "needs_background": "light"
     },
     "output_type": "display_data"
    }
   ],
   "source": [
    "score = model.evaluate(X_test, Y_test, verbose=0)\n",
    "\n",
    "print('Test loss     :', score[0])\n",
    "print('Test mse :', score[1])\n",
    "\n",
    "RMSE_RNN = np.sqrt(score[1])\n",
    "pred_RNN = model.predict(X_test)*(max-min) + min\n",
    "\n",
    "plt.plot(history.history['mse'])\n",
    "plt.plot(history.history['val_mse'])"
   ]
  },
  {
   "cell_type": "code",
   "execution_count": 226,
   "metadata": {},
   "outputs": [
    {
     "data": {
      "image/png": "[encoded data removed]",
      "text/plain": [
       "<Figure size 1280x480 with 2 Axes>"
      ]
     },
     "metadata": {
      "needs_background": "light"
     },
     "output_type": "display_data"
    }
   ],
   "source": [
    "X_train_l = []\n",
    "for k in range(len(X_train)):\n",
    "    X_train_l.append(X_train[k,0,0])\n",
    "\n",
    "fig, (ax1, ax2) = plt.subplots(1, 2,figsize=(16,6), dpi= 80)\n",
    "plot_acf(X_train_l, ax=ax1, lags=50)\n",
    "plot_pacf(X_train_l, ax=ax2, lags=20)\n",
    "plt.show()"
   ]
  },
  {
   "cell_type": "code",
   "execution_count": 227,
   "metadata": {},
   "outputs": [
    {
     "name": "stderr",
     "output_type": "stream",
     "text": [
      "C:\\Users\\octav\\anaconda3\\lib\\site-packages\\statsmodels\\tsa\\arima_model.py:472: FutureWarning: \n",
      "statsmodels.tsa.arima_model.ARMA and statsmodels.tsa.arima_model.ARIMA have\n",
      "been deprecated in favor of statsmodels.tsa.arima.model.ARIMA (note the .\n",
      "between arima and model) and\n",
      "statsmodels.tsa.SARIMAX. These will be removed after the 0.12 release.\n",
      "\n",
      "statsmodels.tsa.arima.model.ARIMA makes use of the statespace framework and\n",
      "is both well tested and maintained.\n",
      "\n",
      "To silence this warning and continue using ARMA and ARIMA until they are\n",
      "removed, use:\n",
      "\n",
      "import warnings\n",
      "warnings.filterwarnings('ignore', 'statsmodels.tsa.arima_model.ARMA',\n",
      "                        FutureWarning)\n",
      "warnings.filterwarnings('ignore', 'statsmodels.tsa.arima_model.ARIMA',\n",
      "                        FutureWarning)\n",
      "\n",
      "  warnings.warn(ARIMA_DEPRECATION_WARN, FutureWarning)\n"
     ]
    },
    {
     "name": "stdout",
     "output_type": "stream",
     "text": [
      "RMSE(ar = 0.000, ma = 0.000) = 0.120\n",
      "RMSE minimal pour arima(ar = 0.000, ma = 0.000) = 0.120\n",
      "RMSE(ar = 0.000, ma = 1.000) = 0.121\n",
      "RMSE minimal pour arima(ar = 0.000, ma = 0.000) = 0.120\n",
      "RMSE(ar = 0.000, ma = 2.000) = 0.123\n",
      "RMSE minimal pour arima(ar = 0.000, ma = 0.000) = 0.120\n",
      "RMSE(ar = 0.000, ma = 3.000) = 0.123\n",
      "RMSE minimal pour arima(ar = 0.000, ma = 0.000) = 0.120\n",
      "RMSE(ar = 0.000, ma = 4.000) = 0.124\n",
      "RMSE minimal pour arima(ar = 0.000, ma = 0.000) = 0.120\n",
      "RMSE(ar = 0.000, ma = 5.000) = 0.124\n",
      "RMSE minimal pour arima(ar = 0.000, ma = 0.000) = 0.120\n",
      "RMSE(ar = 1.000, ma = 0.000) = 0.114\n",
      "RMSE minimal pour arima(ar = 1.000, ma = 0.000) = 0.114\n",
      "RMSE(ar = 1.000, ma = 1.000) = 0.111\n",
      "RMSE minimal pour arima(ar = 1.000, ma = 1.000) = 0.111\n",
      "RMSE(ar = 1.000, ma = 2.000) = 0.122\n",
      "RMSE minimal pour arima(ar = 1.000, ma = 1.000) = 0.111\n",
      "RMSE(ar = 1.000, ma = 3.000) = 0.055\n",
      "RMSE minimal pour arima(ar = 1.000, ma = 3.000) = 0.055\n",
      "RMSE(ar = 1.000, ma = 4.000) = 0.054\n",
      "RMSE minimal pour arima(ar = 1.000, ma = 4.000) = 0.054\n",
      "RMSE(ar = 1.000, ma = 5.000) = 0.054\n",
      "RMSE minimal pour arima(ar = 1.000, ma = 5.000) = 0.054\n",
      "RMSE(ar = 2.000, ma = 0.000) = 0.110\n",
      "RMSE minimal pour arima(ar = 1.000, ma = 5.000) = 0.054\n",
      "RMSE(ar = 2.000, ma = 1.000) = 0.114\n",
      "RMSE minimal pour arima(ar = 1.000, ma = 5.000) = 0.054\n",
      "RMSE(ar = 2.000, ma = 2.000) = 0.123\n",
      "RMSE minimal pour arima(ar = 1.000, ma = 5.000) = 0.054\n",
      "RMSE(ar = 2.000, ma = 3.000) = 0.055\n",
      "RMSE minimal pour arima(ar = 1.000, ma = 5.000) = 0.054\n",
      "RMSE(ar = 2.000, ma = 4.000) = 0.054\n",
      "RMSE minimal pour arima(ar = 1.000, ma = 5.000) = 0.054\n",
      "RMSE(ar = 2.000, ma = 5.000) = 0.054\n",
      "RMSE minimal pour arima(ar = 1.000, ma = 5.000) = 0.054\n",
      "RMSE(ar = 3.000, ma = 0.000) = 0.122\n",
      "RMSE minimal pour arima(ar = 1.000, ma = 5.000) = 0.054\n",
      "RMSE(ar = 3.000, ma = 1.000) = 0.120\n",
      "RMSE minimal pour arima(ar = 1.000, ma = 5.000) = 0.054\n",
      "RMSE(ar = 3.000, ma = 2.000) = 0.119\n",
      "RMSE minimal pour arima(ar = 1.000, ma = 5.000) = 0.054\n",
      "RMSE(ar = 3.000, ma = 3.000) = 0.086\n",
      "RMSE minimal pour arima(ar = 1.000, ma = 5.000) = 0.054\n"
     ]
    },
    {
     "name": "stderr",
     "output_type": "stream",
     "text": [
      "C:\\Users\\octav\\anaconda3\\lib\\site-packages\\statsmodels\\base\\model.py:566: ConvergenceWarning: Maximum Likelihood optimization failed to converge. Check mle_retvals\n",
      "  warnings.warn(\"Maximum Likelihood optimization failed to \"\n"
     ]
    },
    {
     "name": "stdout",
     "output_type": "stream",
     "text": [
      "RMSE(ar = 3.000, ma = 4.000) = 0.112\n",
      "RMSE minimal pour arima(ar = 1.000, ma = 5.000) = 0.054\n",
      "RMSE(ar = 3.000, ma = 5.000) = 0.136\n",
      "RMSE minimal pour arima(ar = 1.000, ma = 5.000) = 0.054\n",
      "RMSE(ar = 4.000, ma = 0.000) = 0.108\n",
      "RMSE minimal pour arima(ar = 1.000, ma = 5.000) = 0.054\n",
      "RMSE(ar = 4.000, ma = 1.000) = 0.053\n",
      "RMSE minimal pour arima(ar = 4.000, ma = 1.000) = 0.053\n",
      "RMSE(ar = 4.000, ma = 2.000) = 0.099\n",
      "RMSE minimal pour arima(ar = 4.000, ma = 1.000) = 0.053\n",
      "RMSE(ar = 4.000, ma = 3.000) = 0.098\n",
      "RMSE minimal pour arima(ar = 4.000, ma = 1.000) = 0.053\n",
      "RMSE(ar = 4.000, ma = 4.000) = 0.051\n",
      "RMSE minimal pour arima(ar = 4.000, ma = 4.000) = 0.051\n",
      "RMSE(ar = 5.000, ma = 0.000) = 0.082\n",
      "RMSE minimal pour arima(ar = 4.000, ma = 4.000) = 0.051\n",
      "RMSE(ar = 5.000, ma = 1.000) = 0.054\n",
      "RMSE minimal pour arima(ar = 4.000, ma = 4.000) = 0.051\n",
      "RMSE(ar = 5.000, ma = 2.000) = 0.098\n",
      "RMSE minimal pour arima(ar = 4.000, ma = 4.000) = 0.051\n",
      "RMSE(ar = 5.000, ma = 3.000) = 0.098\n",
      "RMSE minimal pour arima(ar = 4.000, ma = 4.000) = 0.051\n"
     ]
    }
   ],
   "source": [
    "from statsmodels.tsa.arima_model import ARIMA\n",
    "\n",
    "start=len(X_train)\n",
    "end=len(X_train)+len(X_test)-1\n",
    "min_rmse_arima = [10,0,0]\n",
    "for i in range(0,6) :\n",
    "    for j in range(0,6) :\n",
    "        if (i+j<9): #Si l'on prend (i,j) tel que i+j >= 9, le programme affiche une erreur\n",
    "            model=ARIMA(X_train,order=(i,0,j))\n",
    "            model=model.fit()\n",
    "            pred=model.predict(start=start,end=end,typ='levels')\n",
    "            rmse = np.mean((pred - Y_test)**2)**.5\n",
    "            if (rmse < min_rmse_arima[0]) :\n",
    "                min_rmse_arima = [rmse, i, j]\n",
    "            print(\"RMSE(ar = %.3f, ma = %.3f) = %.3f\" % (i,j,rmse))\n",
    "            print(\"RMSE minimal pour arima(ar = %.3f, ma = %.3f) = %.3f\" % (min_rmse_arima[1],min_rmse_arima[2],min_rmse_arima[0]))"
   ]
  },
  {
   "cell_type": "code",
   "execution_count": 228,
   "metadata": {},
   "outputs": [],
   "source": [
    "model=ARIMA(X_train,order=(4,0,4))\n",
    "model=model.fit()\n",
    "pred_ARIMA=model.predict(start=start,end=end,typ='levels')\n",
    "RMSE_ARIMA = np.mean((pred_ARIMA - Y_test)**2)**.5\n",
    "pred_ARIMA=pred_ARIMA*(max-min) + min"
   ]
  },
  {
   "cell_type": "code",
   "execution_count": 229,
   "metadata": {},
   "outputs": [
    {
     "name": "stdout",
     "output_type": "stream",
     "text": [
      "0.002892338775763097\n"
     ]
    },
    {
     "name": "stderr",
     "output_type": "stream",
     "text": [
      "C:\\Users\\octav\\anaconda3\\lib\\site-packages\\statsmodels\\base\\model.py:566: ConvergenceWarning: Maximum Likelihood optimization failed to converge. Check mle_retvals\n",
      "  warnings.warn(\"Maximum Likelihood optimization failed to \"\n"
     ]
    }
   ],
   "source": [
    "import statsmodels.api as sm\n",
    "start = len(X_train_l)\n",
    "end = len(X_train)+len(X_test)-1\n",
    "mod = sm.tsa.statespace.SARIMAX(X_train_l, order = (4,0,4), seasonal_order = (0,0,0,12), enforce_stationarity=False, enforce_invertibility = False)\n",
    "result = mod.fit()\n",
    "pred_SARIMA= result.predict(start=start, end=end, typ='levels')\n",
    "MSE = (np.mean((pred_SARIMA-Y_test)**2))\n",
    "print(MSE)\n",
    "RMSE_SARIMA = np.sqrt(MSE)\n",
    "pred_SARIMA = pred_SARIMA*(max-min) + min"
   ]
  },
  {
   "cell_type": "code",
   "execution_count": 242,
   "metadata": {},
   "outputs": [
    {
     "data": {
      "image/png": "[encoded data removed]",
      "text/plain": [
       "<Figure size 432x288 with 1 Axes>"
      ]
     },
     "metadata": {
      "needs_background": "light"
     },
     "output_type": "display_data"
    }
   ],
   "source": [
    "# On représentes toutes nos prédictions :\n",
    "plt.plot(Y_test_plot, \"-o\", label=\"Y_test\")\n",
    "plt.plot(pred_ARIMA, \"-o\", label=\"ARIMA\")\n",
    "plt.plot(pred_SARIMA, \"-o\", label=\"SARIMA\")\n",
    "plt.plot(pred_RNN, \"-o\", label=\"RNN\")\n",
    "plt.plot(pred_LSTM, \"-o\", label=\"LSTM\")\n",
    "plt.legend()\n",
    "plt.ylabel(\"Taux d'ammonium\")\n",
    "plt.xlabel('Time')\n",
    "plt.title('Résultats')\n",
    "plt.show()"
   ]
  },
  {
   "cell_type": "code",
   "execution_count": 231,
   "metadata": {},
   "outputs": [
    {
     "name": "stdout",
     "output_type": "stream",
     "text": [
      "RMSE RNN : 0.06377612732660458\n",
      "RMSE LSTM : 0.06271038557546109\n",
      "RMSE ARIMA : 0.05067685942411851\n",
      "RMSE SARIMA : 0.05378046834830557\n"
     ]
    }
   ],
   "source": [
    "print(\"RMSE RNN :\", RMSE_RNN)\n",
    "print(\"RMSE LSTM :\", RMSE_LSTM)\n",
    "print(\"RMSE ARIMA :\", RMSE_ARIMA)\n",
    "print(\"RMSE SARIMA :\", RMSE_SARIMA)"
   ]
  },
  {
   "cell_type": "code",
   "execution_count": 235,
   "metadata": {},
   "outputs": [
    {
     "name": "stdout",
     "output_type": "stream",
     "text": [
      "[[0.253333 7.016667 3.836667 ... 12.383333 8.056667 2.075]\n",
      " [0.218889 6.666667 3.968889 ... 12.877778 8.068889 1.911111]\n",
      " [0.242 21.42 3.798 ... 12.99 8.083 3.93]\n",
      " ...\n",
      " [0.032474 17.1 3.156364 ... 10.381818 8.221818 12.172727]\n",
      " [0.047125 20.785714 3.135455 ... 11.690909 8.211818 6.790909]\n",
      " [0.056563 13.4 3.178182 ... 12.981818 8.218182 3.8]]\n"
     ]
    }
   ],
   "source": [
    "data = pd.read_csv(\"Danube ammonium level complete data Time Series.csv\",sep=\";\")\n",
    "\n",
    "data = data[['Ammonium', 'TSS', 'Alkalinity', 'Conductivity', 'DO', 'pH', 'WT']]\n",
    "data = np.array(data)\n",
    "\n",
    "locale.setlocale(locale.LC_ALL, 'nl_NL')\n",
    "\n",
    "shape = data.shape\n",
    "for j in range(0, shape[1]) :\n",
    "    for i in range(0,shape[0]):\n",
    "        rep = data[i,j]\n",
    "        rep1 = locale.atof(rep)\n",
    "        data[i,j] = rep1\n",
    "print(data)\n",
    "max = data.max(axis=0)\n",
    "min = data.min(axis=0)\n",
    "\n",
    "train1 = (data[0:251,:] - min)/(max - min)\n",
    "test1 = (data[252:263,:] - min)/(max - min)\n",
    "\n",
    "train = np.zeros((251, shape[1] + 1))\n",
    "test = np.zeros((11, shape[1] + 1))\n",
    "\n",
    "for i in range(0, 251) :\n",
    "    for j in range(0, shape[1]) :\n",
    "        train[i,j] = train1[i,j]\n",
    "    train[i,shape[1]] = (data[i+1,0] - min[0])/(max[0] - min[0])\n",
    "\n",
    "for i in range(0,11) :\n",
    "    for j in range(0, shape[1]) :\n",
    "        test[i,j] = test1[i,j]\n",
    "    test[i,shape[1]] = (data[252+i+1,0] - min[0])/(max[0] - min[0])\n",
    "\n",
    "X_train = train[:,:shape[1]]\n",
    "Y_train = train[:,shape[1]]\n",
    "\n",
    "X_test = test[:,:shape[1]]\n",
    "Y_test = test[:,shape[1]]\n",
    "\n",
    "\n",
    "\n"
   ]
  },
  {
   "cell_type": "code",
   "execution_count": 289,
   "metadata": {},
   "outputs": [
    {
     "name": "stdout",
     "output_type": "stream",
     "text": [
      "Model: \"sequential_47\"\n",
      "_________________________________________________________________\n",
      " Layer (type)                Output Shape              Param #   \n",
      "=================================================================\n",
      " simple_rnn_52 (SimpleRNN)   (None, 7, 10)             120       \n",
      "                                                                 \n",
      " simple_rnn_53 (SimpleRNN)   (None, 1)                 12        \n",
      "                                                                 \n",
      "=================================================================\n",
      "Total params: 132\n",
      "Trainable params: 132\n",
      "Non-trainable params: 0\n",
      "_________________________________________________________________\n",
      "Epoch 1/40\n",
      "26/26 [==============================] - 2s 14ms/step - loss: 0.0411 - mse: 0.0411 - val_loss: 0.0075 - val_mse: 0.0075\n",
      "Epoch 2/40\n",
      "26/26 [==============================] - 0s 4ms/step - loss: 0.0283 - mse: 0.0283 - val_loss: 0.0059 - val_mse: 0.0059\n",
      "Epoch 3/40\n",
      "26/26 [==============================] - 0s 4ms/step - loss: 0.0237 - mse: 0.0237 - val_loss: 0.0031 - val_mse: 0.0031\n",
      "Epoch 4/40\n",
      "26/26 [==============================] - 0s 4ms/step - loss: 0.0214 - mse: 0.0214 - val_loss: 0.0034 - val_mse: 0.0034\n",
      "Epoch 5/40\n",
      "26/26 [==============================] - 0s 4ms/step - loss: 0.0198 - mse: 0.0198 - val_loss: 0.0026 - val_mse: 0.0026\n",
      "Epoch 6/40\n",
      "26/26 [==============================] - 0s 4ms/step - loss: 0.0181 - mse: 0.0181 - val_loss: 0.0031 - val_mse: 0.0031\n",
      "Epoch 7/40\n",
      "26/26 [==============================] - 0s 4ms/step - loss: 0.0172 - mse: 0.0172 - val_loss: 0.0023 - val_mse: 0.0023\n",
      "Epoch 8/40\n",
      "26/26 [==============================] - 0s 5ms/step - loss: 0.0165 - mse: 0.0165 - val_loss: 0.0024 - val_mse: 0.0024\n",
      "Epoch 9/40\n",
      "26/26 [==============================] - 0s 5ms/step - loss: 0.0163 - mse: 0.0163 - val_loss: 0.0027 - val_mse: 0.0027\n",
      "Epoch 10/40\n",
      "26/26 [==============================] - 0s 5ms/step - loss: 0.0172 - mse: 0.0172 - val_loss: 0.0025 - val_mse: 0.0025\n",
      "Epoch 11/40\n",
      "26/26 [==============================] - 0s 5ms/step - loss: 0.0156 - mse: 0.0156 - val_loss: 0.0026 - val_mse: 0.0026\n",
      "Epoch 12/40\n",
      "26/26 [==============================] - 0s 4ms/step - loss: 0.0160 - mse: 0.0160 - val_loss: 0.0027 - val_mse: 0.0027\n",
      "Epoch 13/40\n",
      "26/26 [==============================] - 0s 5ms/step - loss: 0.0157 - mse: 0.0157 - val_loss: 0.0027 - val_mse: 0.0027\n",
      "Epoch 14/40\n",
      "26/26 [==============================] - 0s 5ms/step - loss: 0.0157 - mse: 0.0157 - val_loss: 0.0026 - val_mse: 0.0026\n",
      "Epoch 15/40\n",
      "26/26 [==============================] - 0s 5ms/step - loss: 0.0155 - mse: 0.0155 - val_loss: 0.0030 - val_mse: 0.0030\n",
      "Epoch 16/40\n",
      "26/26 [==============================] - 0s 4ms/step - loss: 0.0161 - mse: 0.0161 - val_loss: 0.0026 - val_mse: 0.0026\n",
      "Epoch 17/40\n",
      "26/26 [==============================] - 0s 5ms/step - loss: 0.0155 - mse: 0.0155 - val_loss: 0.0027 - val_mse: 0.0027\n",
      "Epoch 18/40\n",
      "26/26 [==============================] - 0s 4ms/step - loss: 0.0153 - mse: 0.0153 - val_loss: 0.0026 - val_mse: 0.0026\n",
      "Epoch 19/40\n",
      "26/26 [==============================] - 0s 5ms/step - loss: 0.0165 - mse: 0.0165 - val_loss: 0.0031 - val_mse: 0.0031\n",
      "Epoch 20/40\n",
      "26/26 [==============================] - 0s 4ms/step - loss: 0.0154 - mse: 0.0154 - val_loss: 0.0024 - val_mse: 0.0024\n",
      "Epoch 21/40\n",
      "26/26 [==============================] - 0s 4ms/step - loss: 0.0156 - mse: 0.0156 - val_loss: 0.0026 - val_mse: 0.0026\n",
      "Epoch 22/40\n",
      "26/26 [==============================] - 0s 4ms/step - loss: 0.0154 - mse: 0.0154 - val_loss: 0.0028 - val_mse: 0.0028\n",
      "Epoch 23/40\n",
      "26/26 [==============================] - 0s 5ms/step - loss: 0.0152 - mse: 0.0152 - val_loss: 0.0025 - val_mse: 0.0025\n",
      "Epoch 24/40\n",
      "26/26 [==============================] - 0s 5ms/step - loss: 0.0172 - mse: 0.0172 - val_loss: 0.0031 - val_mse: 0.0031\n",
      "Epoch 25/40\n",
      "26/26 [==============================] - 0s 4ms/step - loss: 0.0155 - mse: 0.0155 - val_loss: 0.0024 - val_mse: 0.0024\n",
      "Epoch 26/40\n",
      "26/26 [==============================] - 0s 4ms/step - loss: 0.0154 - mse: 0.0154 - val_loss: 0.0023 - val_mse: 0.0023\n",
      "Epoch 27/40\n",
      "26/26 [==============================] - 0s 4ms/step - loss: 0.0156 - mse: 0.0156 - val_loss: 0.0025 - val_mse: 0.0025\n",
      "Epoch 28/40\n",
      "26/26 [==============================] - 0s 4ms/step - loss: 0.0155 - mse: 0.0155 - val_loss: 0.0025 - val_mse: 0.0025\n",
      "Epoch 29/40\n",
      "26/26 [==============================] - 0s 5ms/step - loss: 0.0153 - mse: 0.0153 - val_loss: 0.0026 - val_mse: 0.0026\n",
      "Epoch 30/40\n",
      "26/26 [==============================] - 0s 5ms/step - loss: 0.0152 - mse: 0.0152 - val_loss: 0.0027 - val_mse: 0.0027\n",
      "Epoch 31/40\n",
      "26/26 [==============================] - 0s 5ms/step - loss: 0.0155 - mse: 0.0155 - val_loss: 0.0026 - val_mse: 0.0026\n",
      "Epoch 32/40\n",
      "26/26 [==============================] - 0s 4ms/step - loss: 0.0153 - mse: 0.0153 - val_loss: 0.0030 - val_mse: 0.0030\n",
      "Epoch 33/40\n",
      "26/26 [==============================] - 0s 5ms/step - loss: 0.0157 - mse: 0.0157 - val_loss: 0.0030 - val_mse: 0.0030\n",
      "Epoch 34/40\n",
      "26/26 [==============================] - 0s 5ms/step - loss: 0.0156 - mse: 0.0156 - val_loss: 0.0030 - val_mse: 0.0030\n",
      "Epoch 35/40\n",
      "26/26 [==============================] - 0s 4ms/step - loss: 0.0159 - mse: 0.0159 - val_loss: 0.0030 - val_mse: 0.0030\n",
      "Epoch 36/40\n",
      "26/26 [==============================] - 0s 5ms/step - loss: 0.0155 - mse: 0.0155 - val_loss: 0.0029 - val_mse: 0.0029\n",
      "Epoch 37/40\n",
      "26/26 [==============================] - 0s 5ms/step - loss: 0.0151 - mse: 0.0151 - val_loss: 0.0027 - val_mse: 0.0027\n",
      "Epoch 38/40\n",
      "26/26 [==============================] - 0s 4ms/step - loss: 0.0155 - mse: 0.0155 - val_loss: 0.0029 - val_mse: 0.0029\n",
      "Epoch 39/40\n",
      "26/26 [==============================] - 0s 5ms/step - loss: 0.0153 - mse: 0.0153 - val_loss: 0.0027 - val_mse: 0.0027\n",
      "Epoch 40/40\n",
      "26/26 [==============================] - 0s 5ms/step - loss: 0.0151 - mse: 0.0151 - val_loss: 0.0025 - val_mse: 0.0025\n"
     ]
    }
   ],
   "source": [
    "from keras.layers import SimpleRNN\n",
    "tf.random.set_seed(1234)\n",
    "\n",
    "model = Sequential()\n",
    "model.add(SimpleRNN(units=10, input_shape=(X_train.shape[1],1), return_sequences=True))\n",
    "model.add(SimpleRNN(units=1))\n",
    "model.summary()\n",
    "\n",
    "\n",
    "# compile the model\n",
    "model.compile(optimizer='Adam',\n",
    "              loss='mse',\n",
    "              metrics=['mse'])\n",
    "\n",
    "# now we just update our model fit call\n",
    "history = model.fit(X_train, Y_train,\n",
    "                    epochs=40, # you can set this to a big number!\n",
    "                    batch_size=10,\n",
    "                    validation_data = (X_test, Y_test),\n",
    "                    verbose=1)"
   ]
  },
  {
   "cell_type": "code",
   "execution_count": 290,
   "metadata": {},
   "outputs": [
    {
     "data": {
      "text/plain": [
       "[<matplotlib.lines.Line2D at 0x1b2ea001370>]"
      ]
     },
     "execution_count": 290,
     "metadata": {},
     "output_type": "execute_result"
    },
    {
     "data": {
      "image/png": "[encoded data removed]",
      "text/plain": [
       "<Figure size 432x288 with 1 Axes>"
      ]
     },
     "metadata": {
      "needs_background": "light"
     },
     "output_type": "display_data"
    }
   ],
   "source": [
    "#plot\n",
    "plt.plot(history.history['mse'])\n",
    "plt.plot(history.history['val_mse'])"
   ]
  },
  {
   "cell_type": "code",
   "execution_count": 291,
   "metadata": {},
   "outputs": [
    {
     "name": "stdout",
     "output_type": "stream",
     "text": [
      "Test loss     : 0.00249275891110301\n",
      "Test mse : 0.00249275891110301\n"
     ]
    },
    {
     "data": {
      "text/plain": [
       "Text(0.5, 1.0, 'Résultats')"
      ]
     },
     "execution_count": 291,
     "metadata": {},
     "output_type": "execute_result"
    },
    {
     "data": {
      "image/png": "[encoded data removed]",
      "text/plain": [
       "<Figure size 432x288 with 1 Axes>"
      ]
     },
     "metadata": {
      "needs_background": "light"
     },
     "output_type": "display_data"
    }
   ],
   "source": [
    "score = model.evaluate(X_test, Y_test, verbose=0)\n",
    "\n",
    "print('Test loss     :', score[0])\n",
    "print('Test mse :', score[1])\n",
    "\n",
    "RMSE_RNN_C = np.sqrt(score[1])\n",
    "pred_RNN_C = model.predict(X_test)*(max[0]-min[0]) + min[0]\n",
    "\n",
    "\n",
    "plt.plot(Y_test_plot, \"-o\", label=\"Y_test\")\n",
    "plt.plot(pred_RNN, \"-o\", label=\"RNN\", color='r')\n",
    "plt.plot(pred_RNN_C, \"-o\", label=\"RNN_Complete\")\n",
    "plt.legend()\n",
    "plt.ylabel(\"Taux d'ammonium\")\n",
    "plt.xlabel('Time')\n",
    "plt.title('Résultats')"
   ]
  },
  {
   "cell_type": "code",
   "execution_count": 293,
   "metadata": {},
   "outputs": [
    {
     "name": "stdout",
     "output_type": "stream",
     "text": [
      "0.04992753660158901\n"
     ]
    }
   ],
   "source": [
    "print(RMSE_RNN_C)"
   ]
  },
  {
   "cell_type": "code",
   "execution_count": null,
   "metadata": {},
   "outputs": [],
   "source": []
  },
  {
   "cell_type": "code",
   "execution_count": null,
   "metadata": {},
   "outputs": [],
   "source": []
  }
 ],
 "metadata": {
  "kernelspec": {
   "display_name": "Python 3 (ipykernel)",
   "language": "python",
   "name": "python3"
  },
  "language_info": {
   "codemirror_mode": {
    "name": "ipython",
    "version": 3
   },
   "file_extension": ".py",
   "mimetype": "text/x-python",
   "name": "python",
   "nbconvert_exporter": "python",
   "pygments_lexer": "ipython3",
   "version": "3.9.7"
  }
 },
 "nbformat": 4,
 "nbformat_minor": 4
}
